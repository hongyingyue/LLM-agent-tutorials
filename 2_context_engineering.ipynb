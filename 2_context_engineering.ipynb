{
 "cells": [
  {
   "cell_type": "markdown",
   "id": "c2c327dc",
   "metadata": {},
   "source": [
    "# Context engineering"
   ]
  },
  {
   "cell_type": "code",
   "execution_count": null,
   "id": "16e96f4e",
   "metadata": {
    "vscode": {
     "languageId": "plaintext"
    }
   },
   "outputs": [],
   "source": [
    "## Static prompt\n",
    "\n",
    "PROMPT = \"\"\"\n",
    "You are an expert of ...\n",
    "\n",
    "Your task is to...\n",
    "\n",
    "User query: {query}\n",
    "\n",
    "Information ou could refer to:\n",
    "Document summary: {summary}\n",
    "Relevant memory: {memory}\n",
    "\"\"\""
   ]
  },
  {
   "cell_type": "code",
   "execution_count": null,
   "id": "f0706a56",
   "metadata": {
    "vscode": {
     "languageId": "plaintext"
    }
   },
   "outputs": [],
   "source": [
    "## Context engineering\n",
    "\n",
    "async def _execute_task(self, task_id: str, task: Dict[str, Any]) -> Dict[str, Any]:\n",
    "    \"\"\"Execute a task with contextual memory support.\"\"\"\n",
    "    \n",
    "    self.active_tasks[task_id] = task\n",
    "    content = task.get(\"content\", \"\")\n",
    "    context_data = task.get(\"context\", {})\n",
    "\n",
    "    # Step 1: 通过用户输入的内容（content）和已有上下文（context_data），从智能体的记忆模块中检索出相关的记忆片段。\n",
    "    relevant_memories = self.memory_manager.retrieve_relevant_memories(content, context_data)\n",
    "\n",
    "    # Step 2: Build context for the task\n",
    "    context = self._build_context(task, relevant_memories)\n",
    "\n",
    "    # Step 3: 构建一个有用的 Prompt 环境，以支持大模型生成更符合语境的输出。\n",
    "    if\"conversation_id\"in task:\n",
    "        response = await self.responses_api.continue_conversation(\n",
    "            conversation_id=task[\"conversation_id\"],\n",
    "            user_input=content,\n",
    "            agent_id=self.agent_card.agent_id\n",
    "        )\n",
    "    else:\n",
    "        conv_state = await self.responses_api.create_conversation(\n",
    "            user_input=content,\n",
    "            system_prompt=self.custom_agent.to_system_prompt()\n",
    "        )\n",
    "        response = conv_state.messages[-1][\"content\"]\n",
    "\n",
    "    # Step 4: Save task + response to memory\n",
    "    self.memory_manager.add_episodic_memory({\n",
    "        \"task_id\": task_id,\n",
    "        \"content\": content,\n",
    "        \"response\": response,\n",
    "        \"context\": context,\n",
    "        \"agent_id\": self.agent_card.agent_id\n",
    "    })\n",
    "\n",
    "    return {\n",
    "        \"task_id\": task_id,\n",
    "        \"status\": \"completed\",\n",
    "        \"response\": response,\n",
    "        \"agent_id\": self.agent_card.agent_id\n",
    "    }\n",
    "\n",
    "\n",
    "def _build_context(self, task: Dict[str, Any], relevant_memories: List[Dict[str, Any]]) -> Dict[str, Any]:\n",
    "    \"\"\"Build structured context for a task.\"\"\"\n",
    "    return {\n",
    "        \"current_task\": task,\n",
    "        \"relevant_memories\": relevant_memories,\n",
    "        \"agent_profile\": {\n",
    "            \"name\": self.custom_agent.name,\n",
    "            \"personality_type\": self.custom_agent.personality_type,\n",
    "            \"expertise\": self.custom_agent.occupation\n",
    "        },\n",
    "        \"peer_agents\": list(self.peer_agents.keys())\n",
    "    }"
   ]
  }
 ],
 "metadata": {
  "language_info": {
   "name": "python"
  }
 },
 "nbformat": 4,
 "nbformat_minor": 5
}
