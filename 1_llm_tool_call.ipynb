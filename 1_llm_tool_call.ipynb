{
 "cells": [
  {
   "cell_type": "markdown",
   "metadata": {},
   "source": [
    "# LLM tool calling"
   ]
  },
  {
   "cell_type": "code",
   "execution_count": null,
   "metadata": {},
   "outputs": [
    {
     "data": {
      "text/plain": [
       "True"
      ]
     },
     "execution_count": 10,
     "metadata": {},
     "output_type": "execute_result"
    }
   ],
   "source": [
    "import warnings\n",
    "import json\n",
    "from datetime import datetime\n",
    "from litellm import completion\n",
    "from duckduckgo_search import DDGS\n",
    "from dotenv import load_dotenv\n",
    "\n",
    "warnings.filterwarnings(\"ignore\", category=UserWarning)\n",
    "load_dotenv()"
   ]
  },
  {
   "cell_type": "code",
   "execution_count": 11,
   "metadata": {},
   "outputs": [],
   "source": [
    "# Tool 1: DuckDuckGo Search\n",
    "def duckduckgo_search(query, max_results=5):\n",
    "    results = []\n",
    "    with DDGS() as ddgs:\n",
    "        for r in ddgs.text(query, max_results=max_results):\n",
    "            results.append(f\"{r['title']}: {r['href']}\")\n",
    "    return \"\\n\".join(results)\n",
    "\n",
    "\n",
    "# Tool 2: Character Counter\n",
    "def count_character_count(text):\n",
    "    return f\"The input has {len(text)} characters.\"\n",
    "\n",
    "\n",
    "# Tool 3: Character Count in Word\n",
    "def count_character_occurrence(word, character):\n",
    "    if len(character) != 1:\n",
    "        return \"Error: Please provide a single character.\"\n",
    "    count = word.count(character)\n",
    "    return f\"The character '{character}' appears {count} time(s) in '{word}'.\"\n",
    "\n",
    "\n",
    "# Tool 4: Current Datetime\n",
    "def get_current_datetime():\n",
    "    return f\"The current date and time is: {datetime.now().isoformat()}\"\n",
    "\n",
    "\n",
    "# Tool 5: Weather Search (via DuckDuckGo)\n",
    "def get_weather(place):\n",
    "    query = f\"current weather in {place}\"\n",
    "    return duckduckgo_search(query, max_results=3)"
   ]
  },
  {
   "cell_type": "code",
   "execution_count": null,
   "metadata": {},
   "outputs": [],
   "source": [
    "# Register tools\n",
    "tool_functions = {}\n",
    "\n",
    "def register_tool(func):\n",
    "    tool_functions[func.__name__] = func\n",
    "    return func\n",
    "\n",
    "\n",
    "register_tool(duckduckgo_search)\n",
    "register_tool(count_character_count)\n",
    "register_tool(count_character_occurrence)\n",
    "register_tool(get_current_datetime)\n",
    "register_tool(get_weather)\n",
    "\n",
    "# Tool definitions\n",
    "tools = [\n",
    "    {\n",
    "        \"type\": \"function\",\n",
    "        \"function\": {\n",
    "            \"name\": \"duckduckgo_search\",\n",
    "            \"description\": \"Search the web using DuckDuckGo\",\n",
    "            \"parameters\": {\n",
    "                \"type\": \"object\",\n",
    "                \"properties\": {\n",
    "                    \"query\": {\"type\": \"string\", \"description\": \"Search query\"},\n",
    "                },\n",
    "                \"required\": [\"query\"],\n",
    "            },\n",
    "        }\n",
    "    },\n",
    "    {\n",
    "        \"type\": \"function\",\n",
    "        \"function\": {\n",
    "            \"name\": \"count_character_count\",\n",
    "            \"description\": \"Count number of characters in a string\",\n",
    "            \"parameters\": {\n",
    "                \"type\": \"object\",\n",
    "                \"properties\": {\n",
    "                    \"text\": {\"type\": \"string\", \"description\": \"The string to analyze\"},\n",
    "                },\n",
    "                \"required\": [\"text\"],\n",
    "            },\n",
    "        }\n",
    "    },\n",
    "    {\n",
    "        \"type\": \"function\",\n",
    "        \"function\": {\n",
    "            \"name\": \"count_character_occurrence\",\n",
    "            \"description\": \"Count how many times a character appears in a word\",\n",
    "            \"parameters\": {\n",
    "                \"type\": \"object\",\n",
    "                \"properties\": {\n",
    "                    \"word\": {\"type\": \"string\", \"description\": \"Target word\"},\n",
    "                    \"character\": {\"type\": \"string\", \"description\": \"Single character\"},\n",
    "                },\n",
    "                \"required\": [\"word\", \"character\"],\n",
    "            },\n",
    "        }\n",
    "    },\n",
    "    {\n",
    "        \"type\": \"function\",\n",
    "        \"function\": {\n",
    "            \"name\": \"get_current_datetime\",\n",
    "            \"description\": \"Get current date and time\",\n",
    "            \"parameters\": {\n",
    "                \"type\": \"object\",\n",
    "                \"properties\": {},\n",
    "            },\n",
    "        }\n",
    "    },\n",
    "    {\n",
    "        \"type\": \"function\",\n",
    "        \"function\": {\n",
    "            \"name\": \"get_weather\",\n",
    "            \"description\": \"Search current weather in a place\",\n",
    "            \"parameters\": {\n",
    "                \"type\": \"object\",\n",
    "                \"properties\": {\n",
    "                    \"place\": {\"type\": \"string\", \"description\": \"Location to check weather\"},\n",
    "                },\n",
    "                \"required\": [\"place\"],\n",
    "            },\n",
    "        }\n",
    "    }\n",
    "]\n"
   ]
  },
  {
   "cell_type": "code",
   "execution_count": 13,
   "metadata": {},
   "outputs": [],
   "source": [
    "def run_agent(question):\n",
    "    messages = [\n",
    "        {\"role\": \"system\", \"content\": \"You are a helpful assistant.\"},\n",
    "        {\"role\": \"user\", \"content\": question}\n",
    "    ]\n",
    "\n",
    "    for step in range(3):\n",
    "        print(f\"\\n--- Step {step} ---\")\n",
    "\n",
    "        response = completion(\n",
    "            model=\"gpt-4.1-mini\",\n",
    "            messages=messages,\n",
    "            tools=tools,\n",
    "            tool_choice=\"auto\",\n",
    "        )\n",
    "\n",
    "        msg = response['choices'][0]['message']\n",
    "\n",
    "        if msg.get(\"tool_calls\"):\n",
    "            tool_call = msg[\"tool_calls\"][0]\n",
    "            function_name = tool_call[\"function\"][\"name\"]\n",
    "            arguments = json.loads(tool_call[\"function\"][\"arguments\"])\n",
    "\n",
    "            print(f\"\\n🔧 Tool requested: {function_name}({arguments})\")\n",
    "\n",
    "            if function_name in tool_functions:\n",
    "                try:\n",
    "                    result = tool_functions[function_name](**arguments)\n",
    "                except Exception as e:\n",
    "                    result = f\"Error running tool '{function_name}': {e}\"\n",
    "            else:\n",
    "                result = f\"❌ Unknown tool: {function_name}\"\n",
    "\n",
    "            messages.append(msg)\n",
    "            messages.append({\n",
    "                \"role\": \"tool\",\n",
    "                \"tool_call_id\": tool_call[\"id\"],\n",
    "                \"name\": function_name,\n",
    "                \"content\": result,\n",
    "            })\n",
    "\n",
    "            print(f\"\\n📘 Tool Result:\\n{result}\")\n",
    "        else:\n",
    "            final_answer = msg[\"content\"]\n",
    "            print(f\"\\n✅ Final Answer:\\n{final_answer}\")\n",
    "            break\n"
   ]
  },
  {
   "cell_type": "code",
   "execution_count": 14,
   "metadata": {},
   "outputs": [
    {
     "name": "stdout",
     "output_type": "stream",
     "text": [
      "\n",
      "--- Step 0 ---\n",
      "\n",
      "🔧 Tool requested: get_current_datetime({})\n",
      "\n",
      "📘 Tool Result:\n",
      "The current date and time is: 2025-06-18T21:18:24.815485\n",
      "\n",
      "--- Step 1 ---\n",
      "\n",
      "✅ Final Answer:\n",
      "The current time is 21:18 (9:18 PM).\n"
     ]
    }
   ],
   "source": [
    "run_agent(\"what time is it now?\")"
   ]
  },
  {
   "cell_type": "code",
   "execution_count": 15,
   "metadata": {},
   "outputs": [
    {
     "name": "stdout",
     "output_type": "stream",
     "text": [
      "\n",
      "--- Step 0 ---\n",
      "\n",
      "🔧 Tool requested: count_character_occurrence({'word': 'strawberry', 'character': 'r'})\n",
      "\n",
      "📘 Tool Result:\n",
      "The character 'r' appears 3 time(s) in 'strawberry'.\n",
      "\n",
      "--- Step 1 ---\n",
      "\n",
      "✅ Final Answer:\n",
      "The letter 'r' appears 3 times in the word \"strawberry.\"\n"
     ]
    }
   ],
   "source": [
    "run_agent(\"how many r in strawberry?\")"
   ]
  },
  {
   "cell_type": "code",
   "execution_count": 16,
   "metadata": {},
   "outputs": [
    {
     "name": "stdout",
     "output_type": "stream",
     "text": [
      "\n",
      "--- Step 0 ---\n",
      "\n",
      "🔧 Tool requested: get_weather({'place': 'Beijing'})\n",
      "\n",
      "📘 Tool Result:\n",
      "Beijing, Beijing, China Weather Forecast | AccuWeather: https://www.accuweather.com/en/cn/beijing/101924/weather-forecast/101924\n",
      "Beijing Weather Forecast Today: https://chinaweather.org/beijing\n",
      "Beijing, BJ, CN Current Weather - The Weather Network: https://www.theweathernetwork.com/en/city/cn/beijing/beijing-2/current\n",
      "\n",
      "--- Step 1 ---\n",
      "\n",
      "🔧 Tool requested: duckduckgo_search({'query': 'Beijing weather forecast tomorrow'})\n",
      "\n",
      "📘 Tool Result:\n",
      "Error running tool 'duckduckgo_search': https://lite.duckduckgo.com/lite/ 202 Ratelimit\n",
      "\n",
      "--- Step 2 ---\n",
      "\n",
      "✅ Final Answer:\n",
      "I am currently experiencing some limitations in accessing up-to-date weather forecast information for Beijing tomorrow. However, you can check reliable weather websites like AccuWeather, The Weather Network, or use a weather app for the latest forecast. Would you like me to help with something else?\n"
     ]
    }
   ],
   "source": [
    "run_agent(\"what's the weather in Beijing tomorrow?\")"
   ]
  }
 ],
 "metadata": {
  "kernelspec": {
   "display_name": "Python 3 (ipykernel)",
   "language": "python",
   "name": "python3"
  },
  "language_info": {
   "codemirror_mode": {
    "name": "ipython",
    "version": 3
   },
   "file_extension": ".py",
   "mimetype": "text/x-python",
   "name": "python",
   "nbconvert_exporter": "python",
   "pygments_lexer": "ipython3",
   "version": "3.11.13"
  }
 },
 "nbformat": 4,
 "nbformat_minor": 2
}
