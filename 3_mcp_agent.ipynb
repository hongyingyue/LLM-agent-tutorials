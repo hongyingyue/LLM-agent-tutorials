{
 "cells": [
  {
   "cell_type": "markdown",
   "id": "eabafa9b",
   "metadata": {},
   "source": [
    "# MCP\n"
   ]
  },
  {
   "cell_type": "code",
   "execution_count": null,
   "id": "3026b4dd",
   "metadata": {
    "vscode": {
     "languageId": "plaintext"
    }
   },
   "outputs": [],
   "source": [
    "!pip install fastmcp"
   ]
  },
  {
   "cell_type": "code",
   "execution_count": null,
   "id": "85ccfb23",
   "metadata": {
    "vscode": {
     "languageId": "plaintext"
    }
   },
   "outputs": [],
   "source": [
    "import json\n",
    "import asyncio\n",
    "import requests\n",
    "from duckduckgo_search import DDGS\n",
    "from fastmcp.server import FastMCP"
   ]
  }
 ],
 "metadata": {
  "language_info": {
   "name": "python"
  }
 },
 "nbformat": 4,
 "nbformat_minor": 5
}
